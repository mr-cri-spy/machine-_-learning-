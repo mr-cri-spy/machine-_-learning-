{
  "nbformat": 4,
  "nbformat_minor": 0,
  "metadata": {
    "colab": {
      "provenance": [],
      "authorship_tag": "ABX9TyPxa44btRvzQ00179VEYFel",
      "include_colab_link": true
    },
    "kernelspec": {
      "name": "python3",
      "display_name": "Python 3"
    },
    "language_info": {
      "name": "python"
    }
  },
  "cells": [
    {
      "cell_type": "markdown",
      "metadata": {
        "id": "view-in-github",
        "colab_type": "text"
      },
      "source": [
        "<a href=\"https://colab.research.google.com/github/mr-cri-spy/machine-_-learning-/blob/main/numpy_learn.ipynb\" target=\"_parent\"><img src=\"https://colab.research.google.com/assets/colab-badge.svg\" alt=\"Open In Colab\"/></a>"
      ]
    },
    {
      "cell_type": "markdown",
      "source": [
        "Data Preprocessing"
      ],
      "metadata": {
        "id": "cE7yyLCGfTxa"
      }
    },
    {
      "cell_type": "markdown",
      "source": [
        "Data preprocessing is the process of cleaning, transforming, and organizing raw data into a format that’s easier to analyze and use"
      ],
      "metadata": {
        "id": "FlnSJgyRkvL5"
      }
    },
    {
      "cell_type": "markdown",
      "source": [
        "Libraries That Make Preprocessing Easy:\n",
        "*numpy\n",
        "*pandas\n",
        "*matplotlib/seaborn"
      ],
      "metadata": {
        "id": "mMLDiLRAk_hZ"
      }
    },
    {
      "cell_type": "markdown",
      "source": [
        "lets first dive in to numpy we use to work on array type of data\n",
        "*Great for numerical operations and handling arrays"
      ],
      "metadata": {
        "id": "GZuaH3I-lWaZ"
      }
    },
    {
      "cell_type": "markdown",
      "source": [
        "array is nothing but a group or similar elements like integers, string, float"
      ],
      "metadata": {
        "id": "LWKeRR3auTfx"
      }
    },
    {
      "cell_type": "markdown",
      "source": [
        "first import libraries\n"
      ],
      "metadata": {
        "id": "zscyn1TDmhw4"
      }
    },
    {
      "cell_type": "code",
      "source": [
        "import numpy as np"
      ],
      "metadata": {
        "id": "BtUCHCENl9Yn"
      },
      "execution_count": null,
      "outputs": []
    },
    {
      "cell_type": "markdown",
      "source": [
        "creating 1D array\n"
      ],
      "metadata": {
        "id": "_-8nscdrmzbS"
      }
    },
    {
      "cell_type": "code",
      "source": [
        "a1 = np.array([1,2,3,4,5])"
      ],
      "metadata": {
        "id": "5f3PHSJFm4gz"
      },
      "execution_count": null,
      "outputs": []
    },
    {
      "cell_type": "markdown",
      "source": [
        "Ok lets see what type of this using type function"
      ],
      "metadata": {
        "id": "J_ABfXwpnD4O"
      }
    },
    {
      "cell_type": "code",
      "source": [
        "print(type(a1))"
      ],
      "metadata": {
        "colab": {
          "base_uri": "https://localhost:8080/"
        },
        "id": "oKdqwP0OnN1C",
        "outputId": "6f2926e1-08ba-4f87-c314-4314cc33f9ea"
      },
      "execution_count": null,
      "outputs": [
        {
          "output_type": "stream",
          "name": "stdout",
          "text": [
            "<class 'numpy.ndarray'>\n"
          ]
        }
      ]
    },
    {
      "cell_type": "markdown",
      "source": [
        "nd-array means N dimention array"
      ],
      "metadata": {
        "id": "8dy43oExnVrp"
      }
    },
    {
      "cell_type": "markdown",
      "source": [
        "if we want to check dimention of this"
      ],
      "metadata": {
        "id": "7y_YBQjOn91E"
      }
    },
    {
      "cell_type": "code",
      "source": [
        "print(a1.ndim)"
      ],
      "metadata": {
        "colab": {
          "base_uri": "https://localhost:8080/"
        },
        "id": "ktoELYzKny1C",
        "outputId": "96d42270-3236-4641-bc2b-8551ea7f30d3"
      },
      "execution_count": null,
      "outputs": [
        {
          "output_type": "stream",
          "name": "stdout",
          "text": [
            "1\n"
          ]
        }
      ]
    },
    {
      "cell_type": "markdown",
      "source": [
        "which shows 1 means 1 dimention, ndim mean N dimention"
      ],
      "metadata": {
        "id": "ytToOWJYoTew"
      }
    },
    {
      "cell_type": "markdown",
      "source": [
        "if we want to know length of the data"
      ],
      "metadata": {
        "id": "H1K50iF8oiy0"
      }
    },
    {
      "cell_type": "code",
      "source": [
        "print(len(a1))"
      ],
      "metadata": {
        "colab": {
          "base_uri": "https://localhost:8080/"
        },
        "id": "eKHs1XV3ot4C",
        "outputId": "fb9e0457-1e6c-4a7d-d4f1-411c288222d6"
      },
      "execution_count": null,
      "outputs": [
        {
          "output_type": "stream",
          "name": "stdout",
          "text": [
            "5\n"
          ]
        }
      ]
    },
    {
      "cell_type": "markdown",
      "source": [
        "if we want to see what is the datatype of the element in an array"
      ],
      "metadata": {
        "id": "8IuGALR_o4TR"
      }
    },
    {
      "cell_type": "code",
      "source": [
        "print(a1.dtype)"
      ],
      "metadata": {
        "colab": {
          "base_uri": "https://localhost:8080/"
        },
        "id": "gmyOoVZPpEzJ",
        "outputId": "3d5408ce-7769-45c2-d9a9-6d164e216d55"
      },
      "execution_count": null,
      "outputs": [
        {
          "output_type": "stream",
          "name": "stdout",
          "text": [
            "int64\n"
          ]
        }
      ]
    },
    {
      "cell_type": "markdown",
      "source": [
        "which means integer 64"
      ],
      "metadata": {
        "id": "GJAl_TvIpNP-"
      }
    },
    {
      "cell_type": "markdown",
      "source": [],
      "metadata": {
        "id": "y3hEU7Gbp0Pl"
      }
    },
    {
      "cell_type": "markdown",
      "source": [
        "lets create 2d array"
      ],
      "metadata": {
        "id": "aC_cFQ4CpVRZ"
      }
    },
    {
      "cell_type": "code",
      "source": [
        "a2 = np.array([[1,2,3,4,5]])"
      ],
      "metadata": {
        "id": "2mdngGxFpmpN"
      },
      "execution_count": null,
      "outputs": []
    },
    {
      "cell_type": "markdown",
      "source": [
        "lets make same process what we did for 1d array\n"
      ],
      "metadata": {
        "id": "LHiDSgFrp2zl"
      }
    },
    {
      "cell_type": "code",
      "source": [
        "print(f\"The type of this data is {type(a2)}\")\n",
        "print(f\"dimention of this data is {a2.ndim}\")\n",
        "print(f\"length of this data is {len(a2)}\")\n",
        "print(f\"type of this data is {a2.dtype}\")\n"
      ],
      "metadata": {
        "colab": {
          "base_uri": "https://localhost:8080/"
        },
        "id": "MXEbLQFUp9o1",
        "outputId": "1fe8ac59-7786-40f3-ba92-cbab3e6ff107"
      },
      "execution_count": null,
      "outputs": [
        {
          "output_type": "stream",
          "name": "stdout",
          "text": [
            "The type of this data is <class 'numpy.ndarray'>\n",
            "dimention of this data is 2\n",
            "length of this data is 1\n",
            "type of this data is int64\n"
          ]
        }
      ]
    },
    {
      "cell_type": "markdown",
      "source": [
        "array in maths"
      ],
      "metadata": {
        "id": "b2dEXFHts1xB"
      }
    },
    {
      "cell_type": "code",
      "source": [
        "print(a1+a2)"
      ],
      "metadata": {
        "colab": {
          "base_uri": "https://localhost:8080/"
        },
        "id": "xAVxE8fUs9QM",
        "outputId": "99b5e55d-6ca3-4844-dd96-ec2e086a5c78"
      },
      "execution_count": null,
      "outputs": [
        {
          "output_type": "stream",
          "name": "stdout",
          "text": [
            "[[ 2  4  6  8 10]]\n"
          ]
        }
      ]
    },
    {
      "cell_type": "markdown",
      "source": [
        "know the shape of array , to knowing the number of elements"
      ],
      "metadata": {
        "id": "aPzcKXECtn39"
      }
    },
    {
      "cell_type": "code",
      "source": [
        "print(a1.shape)\n",
        "print(a2.shape)"
      ],
      "metadata": {
        "colab": {
          "base_uri": "https://localhost:8080/"
        },
        "id": "Xu2wgNbCtrfD",
        "outputId": "984666ff-c31c-4517-c595-586a9fb23d1a"
      },
      "execution_count": null,
      "outputs": [
        {
          "output_type": "stream",
          "name": "stdout",
          "text": [
            "(5,)\n",
            "(1, 5)\n"
          ]
        }
      ]
    },
    {
      "cell_type": "markdown",
      "source": [
        "creating 2d array\n"
      ],
      "metadata": {
        "id": "Qh3eE4auuquR"
      }
    },
    {
      "cell_type": "code",
      "source": [
        "a3 = np.array([[1,2,3],[4,5,6]])"
      ],
      "metadata": {
        "id": "vKPtG8gNuuCJ"
      },
      "execution_count": null,
      "outputs": []
    },
    {
      "cell_type": "markdown",
      "source": [
        "making the process which did before"
      ],
      "metadata": {
        "id": "7snbRITyvH0b"
      }
    },
    {
      "cell_type": "code",
      "source": [
        "print(f\"The type of this data is {type(a3)}\")\n",
        "print(f\"dimention of this data is {a3.ndim}\")\n",
        "print(f\"length of this data is {len(a3)}\")\n",
        "print(f\"type of this data is {a3.dtype}\")\n"
      ],
      "metadata": {
        "colab": {
          "base_uri": "https://localhost:8080/"
        },
        "id": "l9SBErBavNgr",
        "outputId": "cc49b78a-dd25-4386-c559-b3909e710eb4"
      },
      "execution_count": null,
      "outputs": [
        {
          "output_type": "stream",
          "name": "stdout",
          "text": [
            "The type of this data is <class 'numpy.ndarray'>\n",
            "dimention of this data is 2\n",
            "length of this data is 2\n",
            "type of this data is int64\n"
          ]
        }
      ]
    },
    {
      "cell_type": "markdown",
      "source": [
        "we can know the sum of data on this way"
      ],
      "metadata": {
        "id": "npYfyQ18vYky"
      }
    },
    {
      "cell_type": "code",
      "source": [
        "print(f\"the sum of 2d array a3 : {sum(a3)}\")"
      ],
      "metadata": {
        "colab": {
          "base_uri": "https://localhost:8080/"
        },
        "id": "C1Wl5jgeve45",
        "outputId": "7f92a9e2-9c70-4f60-b71a-43b865ba5ccf"
      },
      "execution_count": null,
      "outputs": [
        {
          "output_type": "stream",
          "name": "stdout",
          "text": [
            "the sum of 2d array a3 : [5 7 9]\n"
          ]
        }
      ]
    },
    {
      "cell_type": "markdown",
      "source": [
        "creating 3d array"
      ],
      "metadata": {
        "id": "0PuglQ2av9LW"
      }
    },
    {
      "cell_type": "code",
      "source": [
        "a4 = np.array([[[1,2,3],[4,5,6],[7,8,9]]])"
      ],
      "metadata": {
        "id": "Ghf1J2wGwCK-"
      },
      "execution_count": null,
      "outputs": []
    },
    {
      "cell_type": "markdown",
      "source": [
        "same process to know about this data"
      ],
      "metadata": {
        "id": "wDNMkrNWwWTH"
      }
    },
    {
      "cell_type": "code",
      "source": [
        "print(f\"The type of this data is {type(a4)}\")\n",
        "print(f\"dimention of this data is {a4.ndim}\")\n",
        "print(f\"length of this data is {len(a4)}\")\n",
        "print(f\"type of this data is {a4.dtype}\")\n",
        "\n"
      ],
      "metadata": {
        "colab": {
          "base_uri": "https://localhost:8080/"
        },
        "id": "wpzzLp-9wnCk",
        "outputId": "e7255651-a9dc-4478-9032-f240c92a19cd"
      },
      "execution_count": null,
      "outputs": [
        {
          "output_type": "stream",
          "name": "stdout",
          "text": [
            "The type of this data is <class 'numpy.ndarray'>\n",
            "dimention of this data is 3\n",
            "length of this data is 1\n",
            "type of this data is int64\n"
          ]
        }
      ]
    },
    {
      "cell_type": "markdown",
      "source": [
        "benifits of array : array is better to make doing calculation and operation"
      ],
      "metadata": {
        "id": "K4zgm1kVxD1G"
      }
    },
    {
      "cell_type": "code",
      "source": [
        "print(a4.shape)"
      ],
      "metadata": {
        "colab": {
          "base_uri": "https://localhost:8080/"
        },
        "id": "bkTf04fpxu9T",
        "outputId": "b33b234a-182b-491e-ee3f-c365647f85ee"
      },
      "execution_count": null,
      "outputs": [
        {
          "output_type": "stream",
          "name": "stdout",
          "text": [
            "(1, 3, 3)\n"
          ]
        }
      ]
    },
    {
      "cell_type": "markdown",
      "source": [
        "this mean 1 3d array which found , 3 1d arrays which found and , in each 3 elements"
      ],
      "metadata": {
        "id": "R0DaaHGMyUxB"
      }
    },
    {
      "cell_type": "code",
      "source": [
        "IS = np.array([[1,2,3,4,5],[10,20,30,40,50],[100,200,300,400,500]])\n"
      ],
      "metadata": {
        "colab": {
          "base_uri": "https://localhost:8080/"
        },
        "id": "DbEOhZyFBFrY",
        "outputId": "dd7da7fc-2116-472e-d6f0-299172b4effe"
      },
      "execution_count": null,
      "outputs": [
        {
          "output_type": "execute_result",
          "data": {
            "text/plain": [
              "array([[  1,   2,   3,   4,   5],\n",
              "       [ 10,  20,  30,  40,  50],\n",
              "       [100, 200, 300, 400, 500]])"
            ]
          },
          "metadata": {},
          "execution_count": 47
        }
      ]
    },
    {
      "cell_type": "markdown",
      "source": [
        "lets see index of IS"
      ],
      "metadata": {
        "id": "u87HkkWpBaq6"
      }
    },
    {
      "cell_type": "code",
      "source": [
        "print(f\"the index of IS[O] index is {IS[0]}\")"
      ],
      "metadata": {
        "colab": {
          "base_uri": "https://localhost:8080/"
        },
        "id": "mkEJ6UahBhdH",
        "outputId": "61e13897-c8e0-4646-d29a-8c025bfb9bae"
      },
      "execution_count": null,
      "outputs": [
        {
          "output_type": "stream",
          "name": "stdout",
          "text": [
            "the index of IS[O] index is [1 2 3 4 5]\n"
          ]
        }
      ]
    },
    {
      "cell_type": "code",
      "source": [
        "IS[1:3,1:4]   ## row , column"
      ],
      "metadata": {
        "colab": {
          "base_uri": "https://localhost:8080/"
        },
        "id": "OpRTWDMuCBgL",
        "outputId": "504686b4-3397-4a26-8f98-03965319c697"
      },
      "execution_count": null,
      "outputs": [
        {
          "output_type": "execute_result",
          "data": {
            "text/plain": [
              "array([[ 20,  30,  40],\n",
              "       [200, 300, 400]])"
            ]
          },
          "metadata": {},
          "execution_count": 52
        }
      ]
    },
    {
      "cell_type": "markdown",
      "source": [
        "where giving index 1 to index of 2 rows 1:3\n",
        "where giving index 1 to index of 3 column 1:4 when chosing na in last of indexing that time we should give extra one like i need 1 to 2 index but i want to put 2 to place of 3 should give one extra index and : means all like  if my index is ther till 5 k if i use 1: like this it ll be take till 5 index"
      ],
      "metadata": {
        "id": "8tTrhoDLCHuh"
      }
    },
    {
      "cell_type": "markdown",
      "source": [
        "numpy functions\n",
        "sum , mean, max argmax, argmin"
      ],
      "metadata": {
        "id": "3uD_J7eXDwzS"
      }
    },
    {
      "cell_type": "code",
      "source": [
        "print(a1.max())\n",
        "print(a1.min())\n",
        "print(a1.mean())\n",
        "print(a1.argmax())\n",
        "print(a1.argmin())"
      ],
      "metadata": {
        "colab": {
          "base_uri": "https://localhost:8080/"
        },
        "id": "LuaVpD1kDzPa",
        "outputId": "23cb5443-daae-468d-fc03-2df44a9c9924"
      },
      "execution_count": null,
      "outputs": [
        {
          "output_type": "stream",
          "name": "stdout",
          "text": [
            "5\n",
            "1\n",
            "3.0\n",
            "4\n",
            "0\n"
          ]
        }
      ]
    },
    {
      "cell_type": "code",
      "source": [
        "print(a4.max())\n",
        "print(a4.min())\n",
        "print(a4.mean())\n",
        "print(a4.argmax(axis=0)) ###column wise\n",
        "print(a4.argmin(axis=1)) ###row wise"
      ],
      "metadata": {
        "colab": {
          "base_uri": "https://localhost:8080/"
        },
        "id": "y5bkPqVIFjxl",
        "outputId": "7e465963-5ff6-4df3-d8e8-6ca873117bac"
      },
      "execution_count": null,
      "outputs": [
        {
          "output_type": "stream",
          "name": "stdout",
          "text": [
            "9\n",
            "1\n",
            "5.0\n",
            "[[0 0 0]\n",
            " [0 0 0]\n",
            " [0 0 0]]\n",
            "[[0 0 0]]\n"
          ]
        }
      ]
    },
    {
      "cell_type": "markdown",
      "source": [
        "reshape function : sed to change the shape of an array"
      ],
      "metadata": {
        "id": "_M3XZHd6OYM9"
      }
    },
    {
      "cell_type": "code",
      "source": [
        "print(a1.shape)"
      ],
      "metadata": {
        "colab": {
          "base_uri": "https://localhost:8080/"
        },
        "id": "rWvhsHYjOcbb",
        "outputId": "4fa9dd3f-8de0-4691-8017-4f1ea92b564a"
      },
      "execution_count": null,
      "outputs": [
        {
          "output_type": "stream",
          "name": "stdout",
          "text": [
            "(5,)\n"
          ]
        }
      ]
    },
    {
      "cell_type": "code",
      "source": [
        "a1 = a1.reshape(5,1)\n",
        "a1.shape"
      ],
      "metadata": {
        "colab": {
          "base_uri": "https://localhost:8080/"
        },
        "id": "PAQDSjfhO3b2",
        "outputId": "5457826f-66c9-4d60-eda4-930bdea794d3"
      },
      "execution_count": null,
      "outputs": [
        {
          "output_type": "execute_result",
          "data": {
            "text/plain": [
              "(5, 1)"
            ]
          },
          "metadata": {},
          "execution_count": 74
        }
      ]
    },
    {
      "cell_type": "markdown",
      "source": [
        "if i want to generate zero matrix"
      ],
      "metadata": {
        "id": "OMd2Ef3sQLXR"
      }
    },
    {
      "cell_type": "code",
      "source": [
        "zero_matrix = np.zeros((3,3))\n",
        "print(zero_matrix)"
      ],
      "metadata": {
        "colab": {
          "base_uri": "https://localhost:8080/"
        },
        "id": "aAeGXbSFQSKm",
        "outputId": "dbaeae34-d727-47ff-cb17-8aa9202dc6af"
      },
      "execution_count": null,
      "outputs": [
        {
          "output_type": "stream",
          "name": "stdout",
          "text": [
            "[[0. 0. 0.]\n",
            " [0. 0. 0.]\n",
            " [0. 0. 0.]]\n"
          ]
        }
      ]
    },
    {
      "cell_type": "markdown",
      "source": [
        "if i want to create 1s matrix"
      ],
      "metadata": {
        "id": "uBz5u5YUQjld"
      }
    },
    {
      "cell_type": "code",
      "source": [
        "ones_matrix = np.ones((3,3))\n",
        "print(ones_matrix)"
      ],
      "metadata": {
        "colab": {
          "base_uri": "https://localhost:8080/"
        },
        "id": "PVyrMei0Qn5P",
        "outputId": "8b925f90-60f3-4109-a6b5-e85df0857e92"
      },
      "execution_count": null,
      "outputs": [
        {
          "output_type": "stream",
          "name": "stdout",
          "text": [
            "[[1. 1. 1.]\n",
            " [1. 1. 1.]\n",
            " [1. 1. 1.]]\n"
          ]
        }
      ]
    },
    {
      "cell_type": "markdown",
      "source": [
        "if we want to create identity matrix: it is  a diagonal matrix with all its diagonal elements equal to 1 , and zeroes everywhere else"
      ],
      "metadata": {
        "id": "kSLQNsqKQ-5U"
      }
    },
    {
      "cell_type": "code",
      "source": [
        "i = np.identity(3)\n",
        "i\n",
        "\n",
        "\n"
      ],
      "metadata": {
        "colab": {
          "base_uri": "https://localhost:8080/"
        },
        "id": "-D8OvmgJRSdC",
        "outputId": "d3692879-deaf-476c-800f-f0b9c5ca5b05"
      },
      "execution_count": null,
      "outputs": [
        {
          "output_type": "execute_result",
          "data": {
            "text/plain": [
              "array([[1., 0., 0.],\n",
              "       [0., 1., 0.],\n",
              "       [0., 0., 1.]])"
            ]
          },
          "metadata": {},
          "execution_count": 83
        }
      ]
    },
    {
      "cell_type": "markdown",
      "source": [
        "###which will be always data type is float"
      ],
      "metadata": {
        "id": "QHL7iI3bR3Wy"
      }
    },
    {
      "cell_type": "code",
      "source": [
        "i.dtype"
      ],
      "metadata": {
        "colab": {
          "base_uri": "https://localhost:8080/"
        },
        "id": "FTo_ZUslR0k1",
        "outputId": "2a7034e6-ae72-415d-8c42-7e2c1b4159d2"
      },
      "execution_count": null,
      "outputs": [
        {
          "output_type": "execute_result",
          "data": {
            "text/plain": [
              "dtype('float64')"
            ]
          },
          "metadata": {},
          "execution_count": 84
        }
      ]
    },
    {
      "cell_type": "markdown",
      "source": [
        "if we want to change data type:->"
      ],
      "metadata": {
        "id": "Wa6-lPHSR-rP"
      }
    },
    {
      "cell_type": "code",
      "source": [
        "i = i.astype(\"int\")\n",
        "i.dtype\n"
      ],
      "metadata": {
        "colab": {
          "base_uri": "https://localhost:8080/"
        },
        "id": "NFl9ikfQSD1m",
        "outputId": "55d59ea3-201a-4fa4-f59f-17e5e047ea28"
      },
      "execution_count": null,
      "outputs": [
        {
          "output_type": "execute_result",
          "data": {
            "text/plain": [
              "dtype('int64')"
            ]
          },
          "metadata": {},
          "execution_count": 88
        }
      ]
    },
    {
      "cell_type": "code",
      "source": [
        "i= i.astype(\"float\")\n",
        "i.dtype"
      ],
      "metadata": {
        "colab": {
          "base_uri": "https://localhost:8080/"
        },
        "id": "vI_FsQ2ySaOl",
        "outputId": "74d0a7a3-a819-43eb-aae6-4e61128844ea"
      },
      "execution_count": null,
      "outputs": [
        {
          "output_type": "execute_result",
          "data": {
            "text/plain": [
              "dtype('float64')"
            ]
          },
          "metadata": {},
          "execution_count": 89
        }
      ]
    },
    {
      "cell_type": "markdown",
      "source": [
        "this is how numpy library is using, Thank You"
      ],
      "metadata": {
        "id": "gD1wrFMnSfK5"
      }
    }
  ]
}