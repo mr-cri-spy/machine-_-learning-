
{
  "nbformat": 4,
  "nbformat_minor": 0,
  "metadata": {
    "colab": {
      "provenance": [],
      "authorship_tag": "ABX9TyM6Cii4/exKjLh3ir0PriFj",
      "include_colab_link": true
    },
    "kernelspec": {
      "name": "python3",
      "display_name": "Python 3"
    },
    "language_info": {
      "name": "python"
    }
  },
  "cells": [
    {
      "cell_type": "markdown",
      "metadata": {
        "id": "view-in-github",
        "colab_type": "text"
      },
      "source": [
        "<a href=\"https://colab.research.google.com/github/mr-cri-spy/machine-_-learning-/blob/main/bot_unfinished.ipynb\" target=\"_parent\"><img src=\"https://colab.research.google.com/assets/colab-badge.svg\" alt=\"Open In Colab\"/></a>"
      ]
    },
    {
      "cell_type": "code",
      "execution_count": null,
      "metadata": {
        "colab": {
          "base_uri": "https://localhost:8080/"
        },
        "id": "e26hGBircj3w",
        "outputId": "a14247b2-9059-413e-adf1-ed96663e9ed1"
      },
      "outputs": [
        {
          "output_type": "execute_result",
          "data": {
            "text/plain": [
              "{'bot_name': 'MainBot',\n",
              " 'modules': ['VirtualReceptionist',\n",
              "  'CustomerSupport',\n",
              "  'FeedbackCollector',\n",
              "  'TaskManager'],\n",
              " 'global_settings': {'language_support': ['English', 'Hindi'],\n",
              "  'default_response': 'I’m sorry, I didn’t understand that.',\n",
              "  'context_timeout': 300},\n",
              " 'metadata': {'version': '1.0',\n",
              "  'created_by': 'Admin',\n",
              "  'last_updated': '2024-12-10'}}"
            ]
          },
          "metadata": {},
          "execution_count": 2
        }
      ],
      "source": []
    },
    {
      "cell_type": "code",
      "source": [
        "import tkinter as tk\n",
        "from tkinter import ttk\n",
        "from flask import Flask, request, jsonify\n",
        "from datetime import datetime\n",
        "\n",
        "# Main Bot Class\n",
        "class MainBot:\n",
        "    def __init__(self):\n",
        "        self.modules = {}\n",
        "        self.user_subscriptions = {}  # User ID -> Subscribed Module Mapping\n",
        "\n",
        "    def register_module(self, module_name, module_instance):\n",
        "        self.modules[module_name] = module_instance\n",
        "\n",
        "    def subscribe_user(self, user_id, module_name):\n",
        "        if module_name not in self.modules:\n",
        "            raise ValueError(f\"Module '{module_name}' does not exist.\")\n",
        "        self.user_subscriptions[user_id] = module_name\n",
        "\n",
        "    def handle_request(self, user_id, query):\n",
        "        module_name = self.user_subscriptions.get(user_id)\n",
        "        if not module_name:\n",
        "            return \"User is not subscribed to any module.\"\n",
        "        return self.modules[module_name].handle_request(query)\n",
        "\n",
        "\n",
        "# Virtual Receptionist Bot\n",
        "class VirtualReceptionist:\n",
        "    def handle_request(self, query):\n",
        "        if \"hours\" in query.lower():\n",
        "            return \"Our working hours are 9 AM to 6 PM.\"\n",
        "        elif \"appointment\" in query.lower():\n",
        "            return \"I can help you book an appointment. Please provide details.\"\n",
        "        return \"I'm the Virtual Receptionist. How can I assist you?\"\n",
        "\n",
        "# Event Management Bot\n",
        "class EventManagementBot:\n",
        "    def handle_request(self, query):\n",
        "        if \"events\" in query.lower():\n",
        "            return \"Upcoming Events:\\n1: Tech Conference\\n2: Health Workshop\"\n",
        "        elif \"details\" in query.lower():\n",
        "            return \"Event Details: Tech Conference on 2024-12-15.\"\n",
        "        return \"I'm the Event Management Bot. How can I assist you?\"\n",
        "\n",
        "\n",
        "# Flask App\n",
        "app = Flask(__name__)\n",
        "main_bot = MainBot()\n",
        "\n",
        "\n",
        "@app.route('/query', methods=['POST'])\n",
        "def handle_query():\n",
        "    data = request.json\n",
        "    user_id = data.get('user_id')\n",
        "    query = data.get('query')\n",
        "    response = main_bot.handle_request(user_id, query)\n",
        "    return jsonify({\"response\": response})\n",
        "\n",
        "\n",
        "# Tkinter GUI\n",
        "def run_tkinter_interface():\n",
        "    def send_request():\n",
        "        user_id = user_id_entry.get()\n",
        "        query = query_entry.get()\n",
        "        try:\n",
        "            user_id = int(user_id)\n",
        "            response = main_bot.handle_request(user_id, query)\n",
        "            response_label.config(text=f\"Bot: {response}\")\n",
        "        except ValueError:\n",
        "            response_label.config(text=\"Invalid User ID\")\n",
        "\n",
        "    # Tkinter Window Setup\n",
        "    window = tk.Tk()\n",
        "    window.title(\"Main Bot Interface\")\n",
        "    window.geometry(\"500x400\")\n",
        "\n",
        "    # Title\n",
        "    title_label = tk.Label(window, text=\"Main Bot Interface\", font=(\"Helvetica\", 16))\n",
        "    title_label.pack(pady=10)\n",
        "\n",
        "    # User ID Input\n",
        "    user_id_label = tk.Label(window, text=\"User ID:\")\n",
        "    user_id_label.pack()\n",
        "    user_id_entry = tk.Entry(window)\n",
        "    user_id_entry.pack()\n",
        "\n",
        "    # Query Input\n",
        "    query_label = tk.Label(window, text=\"Your Query:\")\n",
        "    query_label.pack()\n",
        "    query_entry = tk.Entry(window, width=50)\n",
        "    query_entry.pack()\n",
        "\n",
        "    # Send Button\n",
        "    send_button = tk.Button(window, text=\"Send\", command=send_request)\n",
        "    send_button.pack(pady=10)\n",
        "\n",
        "    # Response Display\n",
        "    response_label = tk.Label(window, text=\"Bot: \", font=(\"Helvetica\", 12), wraplength=400)\n",
        "    response_label.pack(pady=10)\n",
        "\n",
        "    window.mainloop()\n",
        "\n",
        "\n",
        "if __name__ == '__main__':\n",
        "    # Initialize Bots\n",
        "    receptionist_bot = VirtualReceptionist()\n",
        "    event_bot = EventManagementBot()\n",
        "\n",
        "    # Register Bots\n",
        "    main_bot.register_module(\"receptionist\", receptionist_bot)\n",
        "    main_bot.register_module(\"event_management\", event_bot)\n",
        "\n",
        "    # Subscribe Users\n",
        "    main_bot.subscribe_user(1, \"receptionist\")\n",
        "    main_bot.subscribe_user(2, \"event_management\")\n",
        "\n",
        "    # Run Flask in a Separate Thread\n",
        "    from threading import Thread\n",
        "    flask_thread = Thread(target=lambda: app.run(port=5000, debug=False))\n",
        "    flask_thread.daemon = True\n",
        "    flask_thread.start()\n",
        "\n",
        "    # Run Tkinter GUI\n",
        "    run_tkinter_interface()\n"
      ],
      "metadata": {
        "colab": {
          "base_uri": "https://localhost:8080/",
          "height": 474
        },
        "id": "f3l41oDtgdX9",
        "outputId": "07c77be8-1396-48e0-a7b8-eb8784c20a6d"
      },
      "execution_count": null,
      "outputs": [
        {
          "output_type": "stream",
          "name": "stdout",
          "text": [
            " * Serving Flask app '__main__'\n",
            " * Debug mode: off\n"
          ]
        },
        {
          "output_type": "stream",
          "name": "stderr",
          "text": [
            "INFO:werkzeug:\u001b[31m\u001b[1mWARNING: This is a development server. Do not use it in a production deployment. Use a production WSGI server instead.\u001b[0m\n",
            " * Running on http://127.0.0.1:5000\n",
            "INFO:werkzeug:\u001b[33mPress CTRL+C to quit\u001b[0m\n"
          ]
        },
        {
          "output_type": "error",
          "ename": "TclError",
          "evalue": "no display name and no $DISPLAY environment variable",
          "traceback": [
            "\u001b[0;31m---------------------------------------------------------------------------\u001b[0m",
            "\u001b[0;31mTclError\u001b[0m                                  Traceback (most recent call last)",
            "\u001b[0;32m<ipython-input-3-538fb629e42b>\u001b[0m in \u001b[0;36m<cell line: 104>\u001b[0;34m()\u001b[0m\n\u001b[1;32m    122\u001b[0m \u001b[0;34m\u001b[0m\u001b[0m\n\u001b[1;32m    123\u001b[0m     \u001b[0;31m# Run Tkinter GUI\u001b[0m\u001b[0;34m\u001b[0m\u001b[0;34m\u001b[0m\u001b[0m\n\u001b[0;32m--> 124\u001b[0;31m     \u001b[0mrun_tkinter_interface\u001b[0m\u001b[0;34m(\u001b[0m\u001b[0;34m)\u001b[0m\u001b[0;34m\u001b[0m\u001b[0;34m\u001b[0m\u001b[0m\n\u001b[0m",
            "\u001b[0;32m<ipython-input-3-538fb629e42b>\u001b[0m in \u001b[0;36mrun_tkinter_interface\u001b[0;34m()\u001b[0m\n\u001b[1;32m     71\u001b[0m \u001b[0;34m\u001b[0m\u001b[0m\n\u001b[1;32m     72\u001b[0m     \u001b[0;31m# Tkinter Window Setup\u001b[0m\u001b[0;34m\u001b[0m\u001b[0;34m\u001b[0m\u001b[0m\n\u001b[0;32m---> 73\u001b[0;31m     \u001b[0mwindow\u001b[0m \u001b[0;34m=\u001b[0m \u001b[0mtk\u001b[0m\u001b[0;34m.\u001b[0m\u001b[0mTk\u001b[0m\u001b[0;34m(\u001b[0m\u001b[0;34m)\u001b[0m\u001b[0;34m\u001b[0m\u001b[0;34m\u001b[0m\u001b[0m\n\u001b[0m\u001b[1;32m     74\u001b[0m     \u001b[0mwindow\u001b[0m\u001b[0;34m.\u001b[0m\u001b[0mtitle\u001b[0m\u001b[0;34m(\u001b[0m\u001b[0;34m\"Main Bot Interface\"\u001b[0m\u001b[0;34m)\u001b[0m\u001b[0;34m\u001b[0m\u001b[0;34m\u001b[0m\u001b[0m\n\u001b[1;32m     75\u001b[0m     \u001b[0mwindow\u001b[0m\u001b[0;34m.\u001b[0m\u001b[0mgeometry\u001b[0m\u001b[0;34m(\u001b[0m\u001b[0;34m\"500x400\"\u001b[0m\u001b[0;34m)\u001b[0m\u001b[0;34m\u001b[0m\u001b[0;34m\u001b[0m\u001b[0m\n",
            "\u001b[0;32m/usr/lib/python3.10/tkinter/__init__.py\u001b[0m in \u001b[0;36m__init__\u001b[0;34m(self, screenName, baseName, className, useTk, sync, use)\u001b[0m\n\u001b[1;32m   2297\u001b[0m                 \u001b[0mbaseName\u001b[0m \u001b[0;34m=\u001b[0m \u001b[0mbaseName\u001b[0m \u001b[0;34m+\u001b[0m \u001b[0mext\u001b[0m\u001b[0;34m\u001b[0m\u001b[0;34m\u001b[0m\u001b[0m\n\u001b[1;32m   2298\u001b[0m         \u001b[0minteractive\u001b[0m \u001b[0;34m=\u001b[0m \u001b[0;32mFalse\u001b[0m\u001b[0;34m\u001b[0m\u001b[0;34m\u001b[0m\u001b[0m\n\u001b[0;32m-> 2299\u001b[0;31m         \u001b[0mself\u001b[0m\u001b[0;34m.\u001b[0m\u001b[0mtk\u001b[0m \u001b[0;34m=\u001b[0m \u001b[0m_tkinter\u001b[0m\u001b[0;34m.\u001b[0m\u001b[0mcreate\u001b[0m\u001b[0;34m(\u001b[0m\u001b[0mscreenName\u001b[0m\u001b[0;34m,\u001b[0m \u001b[0mbaseName\u001b[0m\u001b[0;34m,\u001b[0m \u001b[0mclassName\u001b[0m\u001b[0;34m,\u001b[0m \u001b[0minteractive\u001b[0m\u001b[0;34m,\u001b[0m \u001b[0mwantobjects\u001b[0m\u001b[0;34m,\u001b[0m \u001b[0museTk\u001b[0m\u001b[0;34m,\u001b[0m \u001b[0msync\u001b[0m\u001b[0;34m,\u001b[0m \u001b[0muse\u001b[0m\u001b[0;34m)\u001b[0m\u001b[0;34m\u001b[0m\u001b[0;34m\u001b[0m\u001b[0m\n\u001b[0m\u001b[1;32m   2300\u001b[0m         \u001b[0;32mif\u001b[0m \u001b[0museTk\u001b[0m\u001b[0;34m:\u001b[0m\u001b[0;34m\u001b[0m\u001b[0;34m\u001b[0m\u001b[0m\n\u001b[1;32m   2301\u001b[0m             \u001b[0mself\u001b[0m\u001b[0;34m.\u001b[0m\u001b[0m_loadtk\u001b[0m\u001b[0;34m(\u001b[0m\u001b[0;34m)\u001b[0m\u001b[0;34m\u001b[0m\u001b[0;34m\u001b[0m\u001b[0m\n",
            "\u001b[0;31mTclError\u001b[0m: no display name and no $DISPLAY environment variable"
          ]
        }
      ]
    },
    {
      "cell_type": "code",
      "source": [
        "pip install flask"
      ],
      "metadata": {
        "colab": {
          "base_uri": "https://localhost:8080/"
        },
        "id": "FBCI7CxXg295",
        "outputId": "280b9f3a-24ed-4ddd-8d53-83cb07859e83"
      },
      "execution_count": null,
      "outputs": [
        {
          "output_type": "stream",
          "name": "stdout",
          "text": [
            "Requirement already satisfied: flask in /usr/local/lib/python3.10/dist-packages (3.0.3)\n",
            "Requirement already satisfied: Werkzeug>=3.0.0 in /usr/local/lib/python3.10/dist-packages (from flask) (3.1.3)\n",
            "Requirement already satisfied: Jinja2>=3.1.2 in /usr/local/lib/python3.10/dist-packages (from flask) (3.1.4)\n",
            "Requirement already satisfied: itsdangerous>=2.1.2 in /usr/local/lib/python3.10/dist-packages (from flask) (2.2.0)\n",
            "Requirement already satisfied: click>=8.1.3 in /usr/local/lib/python3.10/dist-packages (from flask) (8.1.7)\n",
            "Requirement already satisfied: blinker>=1.6.2 in /usr/local/lib/python3.10/dist-packages (from flask) (1.9.0)\n",
            "Requirement already satisfied: MarkupSafe>=2.0 in /usr/local/lib/python3.10/dist-packages (from Jinja2>=3.1.2->flask) (3.0.2)\n"
          ]
        }
      ]
    },
    {
      "cell_type": "code",
      "source": [
        "import tkinter as tk\n",
        "from tkinter import ttk\n",
        "from flask import Flask, request, jsonify\n",
        "from datetime import datetime\n",
        "\n",
        "# Main Bot Class\n",
        "class MainBot:\n",
        "    def __init__(self):\n",
        "        self.modules = {}\n",
        "        self.user_subscriptions = {}  # User ID -> Subscribed Module Mapping\n",
        "\n",
        "    def register_module(self, module_name, module_instance):\n",
        "        self.modules[module_name] = module_instance\n",
        "\n",
        "    def subscribe_user(self, user_id, module_name):\n",
        "        if module_name not in self.modules:\n",
        "            raise ValueError(f\"Module '{module_name}' does not exist.\")\n",
        "        self.user_subscriptions[user_id] = module_name\n",
        "\n",
        "    def handle_request(self, user_id, query):\n",
        "        module_name = self.user_subscriptions.get(user_id)\n",
        "        if not module_name:\n",
        "            return \"User is not subscribed to any module.\"\n",
        "        return self.modules[module_name].handle_request(query)\n",
        "\n",
        "\n",
        "# Virtual Receptionist Bot\n",
        "class VirtualReceptionist:\n",
        "    def handle_request(self, query):\n",
        "        if \"hours\" in query.lower():\n",
        "            return \"Our working hours are 9 AM to 6 PM.\"\n",
        "        elif \"appointment\" in query.lower():\n",
        "            return \"I can help you book an appointment. Please provide details.\"\n",
        "        return \"I'm the Virtual Receptionist. How can I assist you?\"\n",
        "\n",
        "# Event Management Bot\n",
        "class EventManagementBot:\n",
        "    def handle_request(self, query):\n",
        "        if \"events\" in query.lower():\n",
        "            return \"Upcoming Events:\\n1: Tech Conference\\n2: Health Workshop\"\n",
        "        elif \"details\" in query.lower():\n",
        "            return \"Event Details: Tech Conference on 2024-12-15.\"\n",
        "        return \"I'm the Event Management Bot. How can I assist you?\"\n",
        "\n",
        "\n",
        "# Flask App\n",
        "app = Flask(__name__)\n",
        "main_bot = MainBot()\n",
        "\n",
        "\n",
        "@app.route('/query', methods=['POST'])\n",
        "def handle_query():\n",
        "    data = request.json\n",
        "    user_id = data.get('user_id')\n",
        "    query = data.get('query')\n",
        "    response = main_bot.handle_request(user_id, query)\n",
        "    return jsonify({\"response\": response})\n",
        "\n",
        "\n",
        "# Tkinter GUI\n",
        "def run_tkinter_interface():\n",
        "    def send_request():\n",
        "        user_id = user_id_entry.get()\n",
        "        query = query_entry.get()\n",
        "        try:\n",
        "            user_id = int(user_id)\n",
        "            response = main_bot.handle_request(user_id, query)\n",
        "            response_label.config(text=f\"Bot: {response}\")\n",
        "        except ValueError:\n",
        "            response_label.config(text=\"Invalid User ID\")\n",
        "\n",
        "    # Tkinter Window Setup\n",
        "    window = tk.Tk()\n",
        "    window.title(\"Main Bot Interface\")\n",
        "    window.geometry(\"500x400\")\n",
        "\n",
        "    # Title\n",
        "    title_label = tk.Label(window, text=\"Main Bot Interface\", font=(\"Helvetica\", 16))\n",
        "    title_label.pack(pady=10)\n",
        "\n",
        "    # User ID Input\n",
        "    user_id_label = tk.Label(window, text=\"User ID:\")\n",
        "    user_id_label.pack()\n",
        "    user_id_entry = tk.Entry(window)\n",
        "    user_id_entry.pack()\n",
        "\n",
        "    # Query Input\n",
        "    query_label = tk.Label(window, text=\"Your Query:\")\n",
        "    query_label.pack()\n",
        "    query_entry = tk.Entry(window, width=50)\n",
        "    query_entry.pack()\n",
        "\n",
        "    # Send Button\n",
        "    send_button = tk.Button(window, text=\"Send\", command=send_request)\n",
        "    send_button.pack(pady=10)\n",
        "\n",
        "    # Response Display\n",
        "    response_label = tk.Label(window, text=\"Bot: \", font=(\"Helvetica\", 12), wraplength=400)\n",
        "    response_label.pack(pady=10)\n",
        "\n",
        "    window.mainloop()\n",
        "\n",
        "\n",
        "if __name__ == '__main__':\n",
        "    # Initialize Bots\n",
        "    receptionist_bot = VirtualReceptionist()\n",
        "    event_bot = EventManagementBot()\n",
        "\n",
        "    # Register Bots\n",
        "    main_bot.register_module(\"receptionist\", receptionist_bot)\n",
        "    main_bot.register_module(\"event_management\", event_bot)\n",
        "\n",
        "    # Subscribe Users\n",
        "    main_bot.subscribe_user(1, \"receptionist\")\n",
        "    main_bot.subscribe_user(2, \"event_management\")\n",
        "\n",
        "    # Run Flask in a Separate Thread\n",
        "    from threading import Thread\n",
        "    flask_thread = Thread(target=lambda: app.run(port=5000, debug=False))\n",
        "    flask_thread.daemon = True\n",
        "    flask_thread.start()\n",
        "\n",
        "    # Run Tkinter GUI\n",
        "    run_tkinter_interface()\n"
      ],
      "metadata": {
        "colab": {
          "base_uri": "https://localhost:8080/",
          "height": 456
        },
        "id": "GryaUu8og8O7",
        "outputId": "a6d41806-a980-43fc-ac96-fde13b681e72"
      },
      "execution_count": null,
      "outputs": [
        {
          "output_type": "stream",
          "name": "stdout",
          "text": [
            " * Serving Flask app '__main__'\n",
            " * Debug mode: off\n"
          ]
        },
        {
          "output_type": "error",
          "ename": "TclError",
          "evalue": "no display name and no $DISPLAY environment variable",
          "traceback": [
            "\u001b[0;31m---------------------------------------------------------------------------\u001b[0m",
            "\u001b[0;31mTclError\u001b[0m                                  Traceback (most recent call last)",
            "\u001b[0;32m<ipython-input-5-538fb629e42b>\u001b[0m in \u001b[0;36m<cell line: 104>\u001b[0;34m()\u001b[0m\n\u001b[1;32m    122\u001b[0m \u001b[0;34m\u001b[0m\u001b[0m\n\u001b[1;32m    123\u001b[0m     \u001b[0;31m# Run Tkinter GUI\u001b[0m\u001b[0;34m\u001b[0m\u001b[0;34m\u001b[0m\u001b[0m\n\u001b[0;32m--> 124\u001b[0;31m     \u001b[0mrun_tkinter_interface\u001b[0m\u001b[0;34m(\u001b[0m\u001b[0;34m)\u001b[0m\u001b[0;34m\u001b[0m\u001b[0;34m\u001b[0m\u001b[0m\n\u001b[0m",
            "\u001b[0;32m<ipython-input-5-538fb629e42b>\u001b[0m in \u001b[0;36mrun_tkinter_interface\u001b[0;34m()\u001b[0m\n\u001b[1;32m     71\u001b[0m \u001b[0;34m\u001b[0m\u001b[0m\n\u001b[1;32m     72\u001b[0m     \u001b[0;31m# Tkinter Window Setup\u001b[0m\u001b[0;34m\u001b[0m\u001b[0;34m\u001b[0m\u001b[0m\n\u001b[0;32m---> 73\u001b[0;31m     \u001b[0mwindow\u001b[0m \u001b[0;34m=\u001b[0m \u001b[0mtk\u001b[0m\u001b[0;34m.\u001b[0m\u001b[0mTk\u001b[0m\u001b[0;34m(\u001b[0m\u001b[0;34m)\u001b[0m\u001b[0;34m\u001b[0m\u001b[0;34m\u001b[0m\u001b[0m\n\u001b[0m\u001b[1;32m     74\u001b[0m     \u001b[0mwindow\u001b[0m\u001b[0;34m.\u001b[0m\u001b[0mtitle\u001b[0m\u001b[0;34m(\u001b[0m\u001b[0;34m\"Main Bot Interface\"\u001b[0m\u001b[0;34m)\u001b[0m\u001b[0;34m\u001b[0m\u001b[0;34m\u001b[0m\u001b[0m\n\u001b[1;32m     75\u001b[0m     \u001b[0mwindow\u001b[0m\u001b[0;34m.\u001b[0m\u001b[0mgeometry\u001b[0m\u001b[0;34m(\u001b[0m\u001b[0;34m\"500x400\"\u001b[0m\u001b[0;34m)\u001b[0m\u001b[0;34m\u001b[0m\u001b[0;34m\u001b[0m\u001b[0m\n",
            "\u001b[0;32m/usr/lib/python3.10/tkinter/__init__.py\u001b[0m in \u001b[0;36m__init__\u001b[0;34m(self, screenName, baseName, className, useTk, sync, use)\u001b[0m\n\u001b[1;32m   2297\u001b[0m                 \u001b[0mbaseName\u001b[0m \u001b[0;34m=\u001b[0m \u001b[0mbaseName\u001b[0m \u001b[0;34m+\u001b[0m \u001b[0mext\u001b[0m\u001b[0;34m\u001b[0m\u001b[0;34m\u001b[0m\u001b[0m\n\u001b[1;32m   2298\u001b[0m         \u001b[0minteractive\u001b[0m \u001b[0;34m=\u001b[0m \u001b[0;32mFalse\u001b[0m\u001b[0;34m\u001b[0m\u001b[0;34m\u001b[0m\u001b[0m\n\u001b[0;32m-> 2299\u001b[0;31m         \u001b[0mself\u001b[0m\u001b[0;34m.\u001b[0m\u001b[0mtk\u001b[0m \u001b[0;34m=\u001b[0m \u001b[0m_tkinter\u001b[0m\u001b[0;34m.\u001b[0m\u001b[0mcreate\u001b[0m\u001b[0;34m(\u001b[0m\u001b[0mscreenName\u001b[0m\u001b[0;34m,\u001b[0m \u001b[0mbaseName\u001b[0m\u001b[0;34m,\u001b[0m \u001b[0mclassName\u001b[0m\u001b[0;34m,\u001b[0m \u001b[0minteractive\u001b[0m\u001b[0;34m,\u001b[0m \u001b[0mwantobjects\u001b[0m\u001b[0;34m,\u001b[0m \u001b[0museTk\u001b[0m\u001b[0;34m,\u001b[0m \u001b[0msync\u001b[0m\u001b[0;34m,\u001b[0m \u001b[0muse\u001b[0m\u001b[0;34m)\u001b[0m\u001b[0;34m\u001b[0m\u001b[0;34m\u001b[0m\u001b[0m\n\u001b[0m\u001b[1;32m   2300\u001b[0m         \u001b[0;32mif\u001b[0m \u001b[0museTk\u001b[0m\u001b[0;34m:\u001b[0m\u001b[0;34m\u001b[0m\u001b[0;34m\u001b[0m\u001b[0m\n\u001b[1;32m   2301\u001b[0m             \u001b[0mself\u001b[0m\u001b[0;34m.\u001b[0m\u001b[0m_loadtk\u001b[0m\u001b[0;34m(\u001b[0m\u001b[0;34m)\u001b[0m\u001b[0;34m\u001b[0m\u001b[0;34m\u001b[0m\u001b[0m\n",
            "\u001b[0;31mTclError\u001b[0m: no display name and no $DISPLAY environment variable"
          ]
        },
        {
          "output_type": "stream",
          "name": "stderr",
          "text": [
            "Address already in use\n",
            "Port 5000 is in use by another program. Either identify and stop that program, or start the server with a different port.\n"
          ]
        }
      ]
    },
    {
      "cell_type": "code",
      "source": [
        "{\n",
        "  \"user_id\": 1,\n",
        "  \"query\": \"What are your working hours?\"\n",
        "}\n"
      ],
      "metadata": {
        "id": "New7GUjbg-5i"
      },
      "execution_count": null,
      "outputs": []
    },
    {
      "cell_type": "code",
      "source": [
        "{\n",
        "  \"response\": \"Our working hours are 9 AM to 6 PM.\"\n",
        "}\n"
      ],
      "metadata": {
        "id": "XrdwNNTohEs4"
      },
      "execution_count": null,
      "outputs": []
    }
  ]
}
