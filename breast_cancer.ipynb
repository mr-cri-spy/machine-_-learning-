{
  "nbformat": 4,
  "nbformat_minor": 0,
  "metadata": {
    "colab": {
      "provenance": [],
      "authorship_tag": "ABX9TyNIIWzFJvdp3OasxLwU8xuh",
      "include_colab_link": true
    },
    "kernelspec": {
      "name": "python3",
      "display_name": "Python 3"
    },
    "language_info": {
      "name": "python"
    }
  },
  "cells": [
    {
      "cell_type": "markdown",
      "metadata": {
        "id": "view-in-github",
        "colab_type": "text"
      },
      "source": [
        "<a href=\"https://colab.research.google.com/github/mr-cri-spy/machine-_-learning-/blob/main/breast_cancer.ipynb\" target=\"_parent\"><img src=\"https://colab.research.google.com/assets/colab-badge.svg\" alt=\"Open In Colab\"/></a>"
      ]
    },
    {
      "cell_type": "code",
      "execution_count": null,
      "metadata": {
        "colab": {
          "base_uri": "https://localhost:8080/"
        },
        "id": "bQjrXoGbGysv",
        "outputId": "58737a14-1db1-4163-e956-6fba81290a55"
      },
      "outputs": [
        {
          "output_type": "stream",
          "name": "stdout",
          "text": [
            "+------+----------+\n",
            "| D    |   phi(D) |\n",
            "+======+==========+\n",
            "| D(0) |   0.0270 |\n",
            "+------+----------+\n",
            "| D(1) |   0.9730 |\n",
            "+------+----------+\n"
          ]
        },
        {
          "output_type": "stream",
          "name": "stderr",
          "text": [
            "<ipython-input-3-06f229a007ed>:10: DeprecationWarning: `product` is deprecated as of NumPy 1.25.0, and will be removed in NumPy 2.0. Please use `prod` instead.\n",
            "  cpd_f = TabularCPD(variable='F', variable_card=2,\n",
            "<ipython-input-3-06f229a007ed>:13: DeprecationWarning: `product` is deprecated as of NumPy 1.25.0, and will be removed in NumPy 2.0. Please use `prod` instead.\n",
            "  cpd_c = TabularCPD(variable='C', variable_card=2,\n"
          ]
        }
      ],
      "source": [
        "from pgmpy.models import BayesianNetwork\n",
        "from pgmpy.inference import VariableElimination\n",
        "from pgmpy.factors.discrete import TabularCPD\n",
        "\n",
        "# Define the structure\n",
        "model = BayesianNetwork([('D', 'F'), ('D', 'C')])\n",
        "\n",
        "# Define the CPTs\n",
        "cpd_d = TabularCPD(variable='D', variable_card=2, values=[[0.1], [0.9]])\n",
        "cpd_f = TabularCPD(variable='F', variable_card=2,\n",
        "                   values=[[0.8, 0.2], [0.2, 0.8]],\n",
        "                   evidence=['D'], evidence_card=[2])\n",
        "cpd_c = TabularCPD(variable='C', variable_card=2,\n",
        "                   values=[[0.7, 0.3], [0.3, 0.7]],\n",
        "                   evidence=['D'], evidence_card=[2])\n",
        "\n",
        "# Add the CPTs to the model\n",
        "model.add_cpds(cpd_d, cpd_f, cpd_c)\n",
        "\n",
        "# Verify the model\n",
        "model.check_model()\n",
        "\n",
        "# Perform inference\n",
        "inference = VariableElimination(model)\n",
        "\n",
        "# Compute P(D | F=1)\n",
        "result = inference.query(variables=['D'], evidence={'F': 1})\n",
        "print(result)\n"
      ]
    },
    {
      "cell_type": "code",
      "source": [
        "\n",
        "\n",
        "import pandas as pd\n",
        "from sklearn.model_selection import train_test_split\n",
        "from pgmpy.models import BayesianNetwork\n",
        "from pgmpy.estimators import MaximumLikelihoodEstimator\n",
        "from pgmpy.inference import VariableElimination\n",
        "\n",
        "# Sample dataset\n",
        "sample_data = {\n",
        "    'age': [63, 67, 67, 37, 41, 56, 62, 57, 63, 53],\n",
        "    'sex': [1, 1, 1, 1, 0, 1, 0, 0, 1, 1],\n",
        "    'chol': [233, 286, 229, 250, 204, 236, 268, 354, 254, 203],\n",
        "    'trestbps': [145, 160, 120, 130, 130, 120, 140, 140, 135, 140],\n",
        "    'fbs': [1, 0, 0, 0, 0, 0, 0, 0, 0, 0],\n",
        "    'heart_disease': [1, 1, 1, 0, 0, 1, 0, 1, 1, 0]\n",
        "}\n",
        "\n",
        "# Convert the sample data into a DataFrame\n",
        "heart_data = pd.DataFrame(sample_data)\n",
        "\n",
        "# Discretize the 'age' variable into categories\n",
        "age_bins = [20, 40, 60, 80]\n",
        "age_labels = ['20-39', '40-59', '60-79']\n",
        "heart_data['age'] = pd.cut(heart_data['age'], bins=age_bins, labels=age_labels)\n",
        "\n",
        "# Convert columns to categorical types\n",
        "for col in heart_data.columns:\n",
        "    heart_data[col] = heart_data[col].astype('category')\n",
        "\n",
        "# Display the first few rows of the dataset\n",
        "print(heart_data.head())\n",
        "\n",
        "# Split the data into training and testing sets\n",
        "train_data, test_data = train_test_split(heart_data, test_size=0.2, random_state=42)\n",
        "\n",
        "# Define the structure of the Bayesian Network\n",
        "model = BayesianNetwork([('age', 'trestbps'),\n",
        "                         ('age', 'fbs'),\n",
        "                         ('sex', 'trestbps'),\n",
        "                         ('trestbps', 'heart_disease'),\n",
        "                         ('chol', 'heart_disease'),\n",
        "                         ('fbs', 'heart_disease')])\n",
        "\n",
        "# Fit the model using Maximum Likelihood Estimation\n",
        "model.fit(train_data, estimator=MaximumLikelihoodEstimator)\n",
        "\n",
        "# Perform inference\n",
        "infer = VariableElimination(model)\n",
        "\n",
        "# Query the model to calculate the probability of heart disease given new data\n",
        "query_result = infer.query(variables=['heart_disease'], evidence={\n",
        "    'age': '40-59',  # Use discrete age category\n",
        "    'sex': 1,\n",
        "    'chol': 250,\n",
        "    'trestbps': 130,\n",
        "    'fbs': 0\n",
        "})\n",
        "\n",
        "print(query_result)"
      ],
      "metadata": {
        "colab": {
          "base_uri": "https://localhost:8080/"
        },
        "id": "YtS1aB6UUB_j",
        "outputId": "8c966095-4455-4d2e-d4fa-968121ae446a"
      },
      "execution_count": null,
      "outputs": [
        {
          "output_type": "stream",
          "name": "stdout",
          "text": [
            "     age sex chol trestbps fbs heart_disease\n",
            "0  60-79   1  233      145   1             1\n",
            "1  60-79   1  286      160   0             1\n",
            "2  60-79   1  229      120   0             1\n",
            "3  20-39   1  250      130   0             0\n",
            "4  40-59   0  204      130   0             0\n",
            "+------------------+----------------------+\n",
            "| heart_disease    |   phi(heart_disease) |\n",
            "+==================+======================+\n",
            "| heart_disease(0) |                  nan |\n",
            "+------------------+----------------------+\n",
            "| heart_disease(1) |                  nan |\n",
            "+------------------+----------------------+\n"
          ]
        },
        {
          "output_type": "stream",
          "name": "stderr",
          "text": [
            "/usr/local/lib/python3.10/dist-packages/pgmpy/estimators/base.py:161: FutureWarning: The default of observed=False is deprecated and will be changed to True in a future version of pandas. Pass observed=False to retain current behavior or observed=True to adopt the future default and silence this warning.\n",
            "  data.groupby([variable] + parents).size().unstack(parents)\n",
            "/usr/local/lib/python3.10/dist-packages/pgmpy/estimators/base.py:161: FutureWarning: The default of observed=False is deprecated and will be changed to True in a future version of pandas. Pass observed=False to retain current behavior or observed=True to adopt the future default and silence this warning.\n",
            "  data.groupby([variable] + parents).size().unstack(parents)\n",
            "/usr/local/lib/python3.10/dist-packages/pgmpy/estimators/base.py:161: FutureWarning: The default of observed=False is deprecated and will be changed to True in a future version of pandas. Pass observed=False to retain current behavior or observed=True to adopt the future default and silence this warning.\n",
            "  data.groupby([variable] + parents).size().unstack(parents)\n",
            "/usr/local/lib/python3.10/dist-packages/pgmpy/factors/discrete/DiscreteFactor.py:478: RuntimeWarning: invalid value encountered in divide\n",
            "  phi.values = phi.values / phi.values.sum()\n"
          ]
        }
      ]
    },
    {
      "cell_type": "code",
      "source": [
        "\n",
        "\n",
        "import pandas as pd\n",
        "from sklearn.model_selection import train_test_split\n",
        "from pgmpy.models import BayesianNetwork\n",
        "from pgmpy.estimators import MaximumLikelihoodEstimator\n",
        "from pgmpy.inference import VariableElimination\n",
        "\n",
        "# Sample dataset\n",
        "sample_data = {\n",
        "    'age': [63, 67, 67, 37, 41, 56, 62, 57, 63, 53],\n",
        "    'sex': [1, 1, 1, 1, 0, 1, 0, 0, 1, 1],\n",
        "    'chol': [233, 286, 229, 250, 204, 236, 268, 354, 254, 203],\n",
        "    'trestbps': [145, 160, 120, 130, 130, 120, 140, 140, 135, 140],\n",
        "    'fbs': [1, 0, 0, 0, 0, 0, 0, 0, 0, 0],\n",
        "    'heart_disease': [1, 1, 1, 0, 0, 1, 0, 1, 1, 0]\n",
        "}\n",
        "\n",
        "# Convert the sample data into a DataFrame\n",
        "heart_data = pd.DataFrame(sample_data)\n",
        "\n",
        "# Discretize the 'age' variable into categories\n",
        "age_bins = [20, 40, 60, 80]\n",
        "age_labels = ['20-39', '40-59', '60-79']\n",
        "heart_data['age'] = pd.cut(heart_data['age'], bins=age_bins, labels=age_labels)\n",
        "\n",
        "# Convert columns to categorical types\n",
        "for col in heart_data.columns:\n",
        "    heart_data[col] = heart_data[col].astype('category')\n",
        "\n",
        "# Display the first few rows of the dataset\n",
        "print(heart_data.head())\n",
        "\n",
        "# Split the data into training and testing sets\n",
        "train_data, test_data = train_test_split(heart_data, test_size=0.2, random_state=42)\n",
        "\n",
        "# Define the structure of the Bayesian Network\n",
        "model = BayesianNetwork([('age', 'trestbps'),\n",
        "                         ('age', 'fbs'),\n",
        "                         ('sex', 'trestbps'),\n",
        "                         ('trestbps', 'heart_disease'),\n",
        "                         ('chol', 'heart_disease'),\n",
        "                         ('fbs', 'heart_disease')])\n",
        "\n",
        "# Fit the model using Maximum Likelihood Estimation\n",
        "model.fit(train_data, estimator=MaximumLikelihoodEstimator)\n",
        "\n",
        "# Perform inference\n",
        "infer = VariableElimination(model)\n",
        "\n",
        "# Query the model to calculate the probability of heart disease given new data\n",
        "query_result = infer.query(variables=['heart_disease'], evidence={\n",
        "    'age': '40-59',  # Use discrete age category\n",
        "    'sex': 1,\n",
        "    'chol': 250,\n",
        "    'trestbps': 130,\n",
        "    'fbs': 0\n",
        "})\n",
        "\n",
        "print(query_result)"
      ],
      "metadata": {
        "colab": {
          "base_uri": "https://localhost:8080/"
        },
        "outputId": "8c966095-4455-4d2e-d4fa-968121ae446a",
        "id": "BZczouVtgwd_"
      },
      "execution_count": null,
      "outputs": [
        {
          "output_type": "stream",
          "name": "stdout",
          "text": [
            "     age sex chol trestbps fbs heart_disease\n",
            "0  60-79   1  233      145   1             1\n",
            "1  60-79   1  286      160   0             1\n",
            "2  60-79   1  229      120   0             1\n",
            "3  20-39   1  250      130   0             0\n",
            "4  40-59   0  204      130   0             0\n",
            "+------------------+----------------------+\n",
            "| heart_disease    |   phi(heart_disease) |\n",
            "+==================+======================+\n",
            "| heart_disease(0) |                  nan |\n",
            "+------------------+----------------------+\n",
            "| heart_disease(1) |                  nan |\n",
            "+------------------+----------------------+\n"
          ]
        },
        {
          "output_type": "stream",
          "name": "stderr",
          "text": [
            "/usr/local/lib/python3.10/dist-packages/pgmpy/estimators/base.py:161: FutureWarning: The default of observed=False is deprecated and will be changed to True in a future version of pandas. Pass observed=False to retain current behavior or observed=True to adopt the future default and silence this warning.\n",
            "  data.groupby([variable] + parents).size().unstack(parents)\n",
            "/usr/local/lib/python3.10/dist-packages/pgmpy/estimators/base.py:161: FutureWarning: The default of observed=False is deprecated and will be changed to True in a future version of pandas. Pass observed=False to retain current behavior or observed=True to adopt the future default and silence this warning.\n",
            "  data.groupby([variable] + parents).size().unstack(parents)\n",
            "/usr/local/lib/python3.10/dist-packages/pgmpy/estimators/base.py:161: FutureWarning: The default of observed=False is deprecated and will be changed to True in a future version of pandas. Pass observed=False to retain current behavior or observed=True to adopt the future default and silence this warning.\n",
            "  data.groupby([variable] + parents).size().unstack(parents)\n",
            "/usr/local/lib/python3.10/dist-packages/pgmpy/factors/discrete/DiscreteFactor.py:478: RuntimeWarning: invalid value encountered in divide\n",
            "  phi.values = phi.values / phi.values.sum()\n"
          ]
        }
      ]
    },
    {
      "cell_type": "code",
      "source": [
        "\n",
        "\n",
        "import pandas as pd\n",
        "from sklearn.model_selection import train_test_split\n",
        "from pgmpy.models import BayesianNetwork\n",
        "from pgmpy.estimators import MaximumLikelihoodEstimator\n",
        "from pgmpy.inference import VariableElimination\n",
        "\n",
        "# Sample dataset\n",
        "sample_data = {\n",
        "    'age': [63, 67, 67, 37, 41, 56, 62, 57, 63, 53],\n",
        "    'sex': [1, 1, 1, 1, 0, 1, 0, 0, 1, 1],\n",
        "    'chol': [233, 286, 229, 250, 204, 236, 268, 354, 254, 203],\n",
        "    'trestbps': [145, 160, 120, 130, 130, 120, 140, 140, 135, 140],\n",
        "    'fbs': [1, 0, 0, 0, 0, 0, 0, 0, 0, 0],\n",
        "    'heart_disease': [1, 1, 1, 0, 0, 1, 0, 1, 1, 0]\n",
        "}\n",
        "\n",
        "# Convert the sample data into a DataFrame\n",
        "heart_data = pd.DataFrame(sample_data)\n",
        "\n",
        "# Discretize the 'age' variable into categories\n",
        "age_bins = [20, 40, 60, 80]\n",
        "age_labels = ['20-39', '40-59', '60-79']\n",
        "heart_data['age'] = pd.cut(heart_data['age'], bins=age_bins, labels=age_labels)\n",
        "\n",
        "# Convert columns to categorical types\n",
        "for col in heart_data.columns:\n",
        "    heart_data[col] = heart_data[col].astype('category')\n",
        "\n",
        "# Display the first few rows of the dataset\n",
        "print(heart_data.head())\n",
        "\n",
        "# Split the data into training and testing sets\n",
        "train_data, test_data = train_test_split(heart_data, test_size=0.2, random_state=42)\n",
        "\n",
        "# Define the structure of the Bayesian Network\n",
        "model = BayesianNetwork([('age', 'trestbps'),\n",
        "                         ('age', 'fbs'),\n",
        "                         ('sex', 'trestbps'),\n",
        "                         ('trestbps', 'heart_disease'),\n",
        "                         ('chol', 'heart_disease'),\n",
        "                         ('fbs', 'heart_disease')])\n",
        "\n",
        "# Fit the model using Maximum Likelihood Estimation\n",
        "model.fit(train_data, estimator=MaximumLikelihoodEstimator)\n",
        "\n",
        "# Perform inference\n",
        "infer = VariableElimination(model)\n",
        "\n",
        "# Query the model to calculate the probability of heart disease given new data\n",
        "query_result = infer.query(variables=['heart_disease'], evidence={\n",
        "    'age': '40-59',  # Use discrete age category\n",
        "    'sex': 1,\n",
        "    'chol': 250,\n",
        "    'trestbps': 130,\n",
        "    'fbs': 0\n",
        "})\n",
        "\n",
        "print(query_result)"
      ],
      "metadata": {
        "colab": {
          "base_uri": "https://localhost:8080/"
        },
        "outputId": "8c966095-4455-4d2e-d4fa-968121ae446a",
        "id": "-UIVdkZ9gyRk"
      },
      "execution_count": null,
      "outputs": [
        {
          "output_type": "stream",
          "name": "stdout",
          "text": [
            "     age sex chol trestbps fbs heart_disease\n",
            "0  60-79   1  233      145   1             1\n",
            "1  60-79   1  286      160   0             1\n",
            "2  60-79   1  229      120   0             1\n",
            "3  20-39   1  250      130   0             0\n",
            "4  40-59   0  204      130   0             0\n",
            "+------------------+----------------------+\n",
            "| heart_disease    |   phi(heart_disease) |\n",
            "+==================+======================+\n",
            "| heart_disease(0) |                  nan |\n",
            "+------------------+----------------------+\n",
            "| heart_disease(1) |                  nan |\n",
            "+------------------+----------------------+\n"
          ]
        },
        {
          "output_type": "stream",
          "name": "stderr",
          "text": [
            "/usr/local/lib/python3.10/dist-packages/pgmpy/estimators/base.py:161: FutureWarning: The default of observed=False is deprecated and will be changed to True in a future version of pandas. Pass observed=False to retain current behavior or observed=True to adopt the future default and silence this warning.\n",
            "  data.groupby([variable] + parents).size().unstack(parents)\n",
            "/usr/local/lib/python3.10/dist-packages/pgmpy/estimators/base.py:161: FutureWarning: The default of observed=False is deprecated and will be changed to True in a future version of pandas. Pass observed=False to retain current behavior or observed=True to adopt the future default and silence this warning.\n",
            "  data.groupby([variable] + parents).size().unstack(parents)\n",
            "/usr/local/lib/python3.10/dist-packages/pgmpy/estimators/base.py:161: FutureWarning: The default of observed=False is deprecated and will be changed to True in a future version of pandas. Pass observed=False to retain current behavior or observed=True to adopt the future default and silence this warning.\n",
            "  data.groupby([variable] + parents).size().unstack(parents)\n",
            "/usr/local/lib/python3.10/dist-packages/pgmpy/factors/discrete/DiscreteFactor.py:478: RuntimeWarning: invalid value encountered in divide\n",
            "  phi.values = phi.values / phi.values.sum()\n"
          ]
        }
      ]
    },
    {
      "cell_type": "code",
      "source": [
        "\n",
        "\n",
        "import pandas as pd\n",
        "from sklearn.model_selection import train_test_split\n",
        "from pgmpy.models import BayesianNetwork\n",
        "from pgmpy.estimators import MaximumLikelihoodEstimator\n",
        "from pgmpy.inference import VariableElimination\n",
        "\n",
        "# Sample dataset\n",
        "sample_data = {\n",
        "    'age': [63, 67, 67, 37, 41, 56, 62, 57, 63, 53],\n",
        "    'sex': [1, 1, 1, 1, 0, 1, 0, 0, 1, 1],\n",
        "    'chol': [233, 286, 229, 250, 204, 236, 268, 354, 254, 203],\n",
        "    'trestbps': [145, 160, 120, 130, 130, 120, 140, 140, 135, 140],\n",
        "    'fbs': [1, 0, 0, 0, 0, 0, 0, 0, 0, 0],\n",
        "    'heart_disease': [1, 1, 1, 0, 0, 1, 0, 1, 1, 0]\n",
        "}\n",
        "\n",
        "# Convert the sample data into a DataFrame\n",
        "heart_data = pd.DataFrame(sample_data)\n",
        "\n",
        "# Discretize the 'age' variable into categories\n",
        "age_bins = [20, 40, 60, 80]\n",
        "age_labels = ['20-39', '40-59', '60-79']\n",
        "heart_data['age'] = pd.cut(heart_data['age'], bins=age_bins, labels=age_labels)\n",
        "\n",
        "# Convert columns to categorical types\n",
        "for col in heart_data.columns:\n",
        "    heart_data[col] = heart_data[col].astype('category')\n",
        "\n",
        "# Display the first few rows of the dataset\n",
        "print(heart_data.head())\n",
        "\n",
        "# Split the data into training and testing sets\n",
        "train_data, test_data = train_test_split(heart_data, test_size=0.2, random_state=42)\n",
        "\n",
        "# Define the structure of the Bayesian Network\n",
        "model = BayesianNetwork([('age', 'trestbps'),\n",
        "                         ('age', 'fbs'),\n",
        "                         ('sex', 'trestbps'),\n",
        "                         ('trestbps', 'heart_disease'),\n",
        "                         ('chol', 'heart_disease'),\n",
        "                         ('fbs', 'heart_disease')])\n",
        "\n",
        "# Fit the model using Maximum Likelihood Estimation\n",
        "model.fit(train_data, estimator=MaximumLikelihoodEstimator)\n",
        "\n",
        "# Perform inference\n",
        "infer = VariableElimination(model)\n",
        "\n",
        "# Query the model to calculate the probability of heart disease given new data\n",
        "query_result = infer.query(variables=['heart_disease'], evidence={\n",
        "    'age': '40-59',  # Use discrete age category\n",
        "    'sex': 1,\n",
        "    'chol': 250,\n",
        "    'trestbps': 130,\n",
        "    'fbs': 0\n",
        "})\n",
        "\n",
        "print(query_result)"
      ],
      "metadata": {
        "colab": {
          "base_uri": "https://localhost:8080/"
        },
        "outputId": "8c966095-4455-4d2e-d4fa-968121ae446a",
        "id": "kwOSluMbgzLd"
      },
      "execution_count": null,
      "outputs": [
        {
          "output_type": "stream",
          "name": "stdout",
          "text": [
            "     age sex chol trestbps fbs heart_disease\n",
            "0  60-79   1  233      145   1             1\n",
            "1  60-79   1  286      160   0             1\n",
            "2  60-79   1  229      120   0             1\n",
            "3  20-39   1  250      130   0             0\n",
            "4  40-59   0  204      130   0             0\n",
            "+------------------+----------------------+\n",
            "| heart_disease    |   phi(heart_disease) |\n",
            "+==================+======================+\n",
            "| heart_disease(0) |                  nan |\n",
            "+------------------+----------------------+\n",
            "| heart_disease(1) |                  nan |\n",
            "+------------------+----------------------+\n"
          ]
        },
        {
          "output_type": "stream",
          "name": "stderr",
          "text": [
            "/usr/local/lib/python3.10/dist-packages/pgmpy/estimators/base.py:161: FutureWarning: The default of observed=False is deprecated and will be changed to True in a future version of pandas. Pass observed=False to retain current behavior or observed=True to adopt the future default and silence this warning.\n",
            "  data.groupby([variable] + parents).size().unstack(parents)\n",
            "/usr/local/lib/python3.10/dist-packages/pgmpy/estimators/base.py:161: FutureWarning: The default of observed=False is deprecated and will be changed to True in a future version of pandas. Pass observed=False to retain current behavior or observed=True to adopt the future default and silence this warning.\n",
            "  data.groupby([variable] + parents).size().unstack(parents)\n",
            "/usr/local/lib/python3.10/dist-packages/pgmpy/estimators/base.py:161: FutureWarning: The default of observed=False is deprecated and will be changed to True in a future version of pandas. Pass observed=False to retain current behavior or observed=True to adopt the future default and silence this warning.\n",
            "  data.groupby([variable] + parents).size().unstack(parents)\n",
            "/usr/local/lib/python3.10/dist-packages/pgmpy/factors/discrete/DiscreteFactor.py:478: RuntimeWarning: invalid value encountered in divide\n",
            "  phi.values = phi.values / phi.values.sum()\n"
          ]
        }
      ]
    }
  ]
}
